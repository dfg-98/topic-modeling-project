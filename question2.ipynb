{
 "cells": [
  {
   "attachments": {},
   "cell_type": "markdown",
   "metadata": {},
   "source": [
    "2- Modify the CoherenceTestIwor.py program to remove stopwords from document descriptions.\n",
    "\n",
    "a) Explain what are representing stopwords exactly (looking to papers or Web infos on that topic).\n",
    "\n",
    "b) Go back to the results of question 1) b) and considering your response to question 2) a) explain what is the main content of topics obtained in question 1) b). Try to explain why.\n",
    "\n",
    "c) For removing the stopwords from documents descriptions, you will need to modify the CoherenceTestIwor.py, as it is mentioned on 2). For that purpose, you can make use of some commented instructions in the program alongside with some slight modifications of some other intructions of the program. Describe which instructions you have modified and why.\n",
    " \n",
    "Relaunch your modified program and present your obtained results including topic decriptions, coherence and perplexity values. Compare the results with the ones of question 1) b). Consequently, estimate the relationship between coherence, perplexity and topic quality.\n",
    "\n",
    "For the next questions you will have to use your modified program including the stopwords removal function.\n",
    "\n",
    "d) Launch the modified program several times making varying the number of expected topics from 5 to 20 and use the obtained values of coherence for each different number of topics to draw a chart. Looking to the obtained chart, try to conclude what should be the optimal number of topics for the document collection TokenVieuxM.txt. Justify your answer.\n",
    "\n",
    "e) Change the dataset used by your modified program including the stop words removal function in order to use TokenVieuxN.txt document file instead of TokenVieuxM.txt document file. Use an expected number of topics equal to 10 to compare the results of this experiment with the experiment achieved with TokenVieuxM.txt in 2) c). What can you conclude ?\n",
    "\n",
    "f) Make the same experience as the one achieved in 2) d) but using TokenVieuxN.txt instead of  TokenVieuxM.txt and  number of expected topics varying from 5 to 30. Looking to the new obtained chart (that should be presented), draw a new conclusion.\n",
    "\n",
    "Can you conclude that the optimal number of topic depend on the exploited dataset ? Observe the content of the two datasets TokenVieuxM.txt and TokenVieuxN.txt more carefully and try to find the differences between the two. What can you conclude regarding the dependance between the optimal number of topic and the charateristics of the datasets after your observations."
   ]
  },
  {
   "attachments": {},
   "cell_type": "markdown",
   "metadata": {},
   "source": [
    "# 2- a)\n",
    "\n",
    "Stopwords in the context of topic modeling, such as in LDA (Latent Dirichlet Allocation), refer to commonly occurring words in a language that are considered to have little or no semantic meaning or do not contribute significantly to the understanding or differentiation of documents. These words include articles (e.g., \"the,\" \"a\"), prepositions (e.g., \"of,\" \"in\"), conjunctions (e.g., \"and,\" \"or\"), pronouns (e.g., \"he,\" \"she\"), and other frequently used words.\n",
    "\n",
    "The use of stopwords in LDA topic modeling is based on the assumption that these words occur frequently across different documents and topics, and their inclusion in the analysis may introduce noise and hinder the identification of more meaningful and distinctive topics. By removing stopwords, the focus can be shifted towards identifying and extracting more informative and topic-specific terms.\n",
    "\n",
    "Stopwords are typically removed during the preprocessing stage of topic modeling. The preprocessing steps often involve tokenization (splitting text into individual words or tokens), lowercasing, and the removal of punctuation, special characters, and stopwords. This process helps to clean the text data and prepare it for further analysis, such as building the LDA model.\n",
    "\n",
    "The specific list of stopwords used may vary depending on the language and the specific task. Commonly used stopwords are often based on general language usage, but domain-specific stopwords can also be added to remove domain-specific noise. For example, in the context of healthcare research, domain-specific stopwords could include terms like \"patient,\" \"study,\" or \"treatment,\" which may be frequently occurring but may not contribute much to the differentiation of topics in a healthcare research corpus.\n",
    "\n",
    "Overall, the removal of stopwords in LDA topic modeling aims to improve the quality and interpretability of the generated topics by focusing on more meaningful and topic-specific terms."
   ]
  },
  {
   "attachments": {},
   "cell_type": "markdown",
   "metadata": {},
   "source": [
    "# 2- b)\n",
    "\n",
    "Since the corpus was not cleaned from stopwords, the presence of these common words might have influenced the topics obtained.\n",
    "\n",
    "Looking at the obtained topics:\n",
    "\n",
    "Topic 0:\n",
    "This topic seems to contain common words such as \"of,\" \"the,\" \"in,\" \"to,\" and \"and.\" These words are frequently occurring stopwords that do not provide much specific information about the topic. It suggests that this topic may not have a clear and distinctive theme and could be a mixture of different subjects.\n",
    "\n",
    "Topic 1:\n",
    "Similar to the previous topic, this topic also contains stopwords like \"and,\" \"the,\" \"of,\" and \"to.\" Additionally, it includes terms such as \"neurons\" and \"auditory,\" which might indicate a connection to neuroscience or auditory-related research. However, without further context, it is difficult to determine the exact theme of this topic.\n",
    "\n",
    "Topic 2:\n",
    "Again, we observe the presence of common stopwords like \"of,\" \"the,\" \"and,\" \"in,\" and \"to.\" The inclusion of the term \"biological\" suggests that this topic might be related to biological aspects in healthcare research. However, the specific focus or subtopic within the broader field of healthcare is not clear from this information alone.\n",
    "\n",
    "Topic 3:\n",
    "This topic includes terms like \"strategies\" and \"men\" along with stopwords such as \"of,\" \"the,\" and \"and.\" It is challenging to discern the main content or theme solely based on these terms. Further information or analysis is required to determine the specific subject matter of this topic.\n",
    "\n",
    "Topic 4:\n",
    "Once again, we see common stopwords like \"the,\" \"of,\" \"and,\" \"to,\" and \"in.\" The inclusion of terms like \"protein\" and \"DNA\" suggests that this topic might be related to molecular biology or genetic research within the healthcare domain. However, additional context is needed to understand the precise focus of this topic.\n",
    "\n",
    "Topics 5, 6, 7, 8, and 9:\n",
    "These topics also exhibit the presence of common stopwords without clear and specific terms that could indicate a distinct theme. Without further context or analysis, it is challenging to determine the main content of these topics.\n",
    "\n",
    "Overall, the presence of stopwords in the corpus might have diluted the topics obtained and made it difficult to identify specific themes or subject matters. Stopwords, being common and frequently occurring words, do not contribute much to the differentiation and specificity of topics. To obtain more meaningful and interpretable topics, it is advisable to preprocess the corpus by removing stopwords before running the LDA model."
   ]
  },
  {
   "cell_type": "markdown",
   "metadata": {},
   "source": []
  },
  {
   "cell_type": "markdown",
   "metadata": {},
   "source": []
  }
 ],
 "metadata": {
  "language_info": {
   "name": "python"
  },
  "orig_nbformat": 4
 },
 "nbformat": 4,
 "nbformat_minor": 2
}
